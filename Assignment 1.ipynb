{
 "cells": [
  {
   "cell_type": "code",
   "execution_count": 2,
   "id": "4cec601e",
   "metadata": {},
   "outputs": [],
   "source": [
    "import numpy as np"
   ]
  },
  {
   "cell_type": "markdown",
   "id": "c0070d5c",
   "metadata": {},
   "source": [
    "# Q1.a"
   ]
  },
  {
   "cell_type": "code",
   "execution_count": 2,
   "id": "c7a3897d",
   "metadata": {},
   "outputs": [],
   "source": [
    "a=np.array([1,2,3,6,4,5])"
   ]
  },
  {
   "cell_type": "code",
   "execution_count": 3,
   "id": "fd4ec200",
   "metadata": {},
   "outputs": [],
   "source": [
    "b=np.flip(a)"
   ]
  },
  {
   "cell_type": "code",
   "execution_count": 4,
   "id": "e17c220b",
   "metadata": {},
   "outputs": [
    {
     "name": "stdout",
     "output_type": "stream",
     "text": [
      "[5 4 6 3 2 1]\n"
     ]
    }
   ],
   "source": [
    "print(b)"
   ]
  },
  {
   "cell_type": "markdown",
   "id": "6c3fb7bd",
   "metadata": {},
   "source": [
    "# Q1.b"
   ]
  },
  {
   "cell_type": "code",
   "execution_count": 6,
   "id": "0cdf4946",
   "metadata": {},
   "outputs": [],
   "source": [
    "ar=np.array([[1,2,3],[2,4,5],[1,2,3]])"
   ]
  },
  {
   "cell_type": "code",
   "execution_count": 8,
   "id": "a7993e20",
   "metadata": {},
   "outputs": [
    {
     "data": {
      "text/plain": [
       "array([1, 2, 3, 2, 4, 5, 1, 2, 3])"
      ]
     },
     "execution_count": 8,
     "metadata": {},
     "output_type": "execute_result"
    }
   ],
   "source": [
    "ar.flatten()"
   ]
  },
  {
   "cell_type": "markdown",
   "id": "eb6edf28",
   "metadata": {},
   "source": [
    "# Q1.c"
   ]
  },
  {
   "cell_type": "code",
   "execution_count": 9,
   "id": "f796de99",
   "metadata": {},
   "outputs": [],
   "source": [
    "a1=np.array([[1,2],[3,4]])\n",
    "a2=np.array([[1,2],[3,4]])"
   ]
  },
  {
   "cell_type": "code",
   "execution_count": 10,
   "id": "426ecb91",
   "metadata": {},
   "outputs": [
    {
     "data": {
      "text/plain": [
       "True"
      ]
     },
     "execution_count": 10,
     "metadata": {},
     "output_type": "execute_result"
    }
   ],
   "source": [
    "np.array_equal(a1,a2)"
   ]
  },
  {
   "cell_type": "markdown",
   "id": "e27c08cd",
   "metadata": {},
   "source": [
    "# Q1.d"
   ]
  },
  {
   "cell_type": "code",
   "execution_count": 11,
   "id": "34b1d170",
   "metadata": {},
   "outputs": [],
   "source": [
    "x = np.array([1,2,3,4,5,1,2,1,1,1])"
   ]
  },
  {
   "cell_type": "code",
   "execution_count": 12,
   "id": "74523b3b",
   "metadata": {},
   "outputs": [
    {
     "data": {
      "text/plain": [
       "1"
      ]
     },
     "execution_count": 12,
     "metadata": {},
     "output_type": "execute_result"
    }
   ],
   "source": [
    "np.bincount(x).argmax()"
   ]
  },
  {
   "cell_type": "code",
   "execution_count": 13,
   "id": "ed2e0e16",
   "metadata": {},
   "outputs": [
    {
     "data": {
      "text/plain": [
       "array([0, 5, 7, 8, 9], dtype=int64)"
      ]
     },
     "execution_count": 13,
     "metadata": {},
     "output_type": "execute_result"
    }
   ],
   "source": [
    "np.where(x==np.bincount(x).argmax())[0]"
   ]
  },
  {
   "cell_type": "markdown",
   "id": "04e1f5a5",
   "metadata": {},
   "source": [
    "# Q1.e"
   ]
  },
  {
   "cell_type": "code",
   "execution_count": 14,
   "id": "5883423b",
   "metadata": {},
   "outputs": [],
   "source": [
    "gfg = np.matrix('[4, 1, 9; 12, 3, 1; 4, 5, 6]')"
   ]
  },
  {
   "cell_type": "code",
   "execution_count": 15,
   "id": "c5f44fc0",
   "metadata": {},
   "outputs": [
    {
     "data": {
      "text/plain": [
       "45"
      ]
     },
     "execution_count": 15,
     "metadata": {},
     "output_type": "execute_result"
    }
   ],
   "source": [
    "np.sum(gfg)"
   ]
  },
  {
   "cell_type": "code",
   "execution_count": 16,
   "id": "d8aee97a",
   "metadata": {},
   "outputs": [
    {
     "data": {
      "text/plain": [
       "matrix([[14],\n",
       "        [16],\n",
       "        [15]])"
      ]
     },
     "execution_count": 16,
     "metadata": {},
     "output_type": "execute_result"
    }
   ],
   "source": [
    "np.sum(gfg,axis=1)"
   ]
  },
  {
   "cell_type": "code",
   "execution_count": 17,
   "id": "01744241",
   "metadata": {},
   "outputs": [
    {
     "data": {
      "text/plain": [
       "matrix([[20,  9, 16]])"
      ]
     },
     "execution_count": 17,
     "metadata": {},
     "output_type": "execute_result"
    }
   ],
   "source": [
    "np.sum(gfg,axis=0)"
   ]
  },
  {
   "cell_type": "markdown",
   "id": "3c94326a",
   "metadata": {},
   "source": [
    "# Q1.f"
   ]
  },
  {
   "cell_type": "code",
   "execution_count": 18,
   "id": "87491078",
   "metadata": {},
   "outputs": [],
   "source": [
    "n_array = np.array([[55, 25, 15],[30, 44, 2],[11, 45, 77]])"
   ]
  },
  {
   "cell_type": "code",
   "execution_count": 19,
   "id": "0a3630a7",
   "metadata": {},
   "outputs": [
    {
     "data": {
      "text/plain": [
       "176"
      ]
     },
     "execution_count": 19,
     "metadata": {},
     "output_type": "execute_result"
    }
   ],
   "source": [
    "np.trace(n_array)"
   ]
  },
  {
   "cell_type": "code",
   "execution_count": 20,
   "id": "f1c63b0d",
   "metadata": {},
   "outputs": [
    {
     "data": {
      "text/plain": [
       "(array([98.16835147, 28.097044  , 49.73460452]),\n",
       " array([[ 0.4574917 ,  0.34637121, -0.15017693],\n",
       "        [ 0.28447814, -0.72784061, -0.4852124 ],\n",
       "        [ 0.84248058,  0.59184038,  0.8614034 ]]))"
      ]
     },
     "execution_count": 20,
     "metadata": {},
     "output_type": "execute_result"
    }
   ],
   "source": [
    "np.linalg.eig(n_array)"
   ]
  },
  {
   "cell_type": "code",
   "execution_count": 21,
   "id": "c8338205",
   "metadata": {},
   "outputs": [
    {
     "data": {
      "text/plain": [
       "array([[ 0.02404141, -0.00911212, -0.00444671],\n",
       "       [-0.01667882,  0.02966905,  0.0024785 ],\n",
       "       [ 0.00631287, -0.01603732,  0.01217379]])"
      ]
     },
     "execution_count": 21,
     "metadata": {},
     "output_type": "execute_result"
    }
   ],
   "source": [
    "np.linalg.inv(n_array)"
   ]
  },
  {
   "cell_type": "code",
   "execution_count": 22,
   "id": "44319f4a",
   "metadata": {},
   "outputs": [
    {
     "data": {
      "text/plain": [
       "137180.0000000001"
      ]
     },
     "execution_count": 22,
     "metadata": {},
     "output_type": "execute_result"
    }
   ],
   "source": [
    "np.linalg.det(n_array)"
   ]
  },
  {
   "cell_type": "markdown",
   "id": "3f5cce77",
   "metadata": {},
   "source": [
    "# Q1.g"
   ]
  },
  {
   "cell_type": "code",
   "execution_count": 23,
   "id": "005242c2",
   "metadata": {},
   "outputs": [],
   "source": [
    "p = np.array([[1, 2], [2, 3]])\n",
    "q = np.array([[4, 5], [6, 7]])"
   ]
  },
  {
   "cell_type": "code",
   "execution_count": 24,
   "id": "ebc6f3b8",
   "metadata": {},
   "outputs": [
    {
     "data": {
      "text/plain": [
       "array([[16, 19],\n",
       "       [26, 31]])"
      ]
     },
     "execution_count": 24,
     "metadata": {},
     "output_type": "execute_result"
    }
   ],
   "source": [
    "np.matmul(p,q)"
   ]
  },
  {
   "cell_type": "code",
   "execution_count": 25,
   "id": "7485f7ee",
   "metadata": {},
   "outputs": [
    {
     "data": {
      "text/plain": [
       "array([[0.5, 0.5, 0.5, 0.5],\n",
       "       [0.5, 0.5, 0.5, 0.5],\n",
       "       [0.5, 0.5, 0.5, 0.5],\n",
       "       [0.5, 0.5, 0.5, 0.5]])"
      ]
     },
     "execution_count": 25,
     "metadata": {},
     "output_type": "execute_result"
    }
   ],
   "source": [
    "np.cov(p,q)"
   ]
  },
  {
   "cell_type": "code",
   "execution_count": 26,
   "id": "d4e8c1c0",
   "metadata": {},
   "outputs": [],
   "source": [
    "pp = np.array([[1, 2], [2, 3], [4, 5]])\n",
    "qq = np.array([[4, 5, 1], [6, 7, 2]])"
   ]
  },
  {
   "cell_type": "code",
   "execution_count": 27,
   "id": "75172606",
   "metadata": {},
   "outputs": [
    {
     "data": {
      "text/plain": [
       "array([[16, 19,  5],\n",
       "       [26, 31,  8],\n",
       "       [46, 55, 14]])"
      ]
     },
     "execution_count": 27,
     "metadata": {},
     "output_type": "execute_result"
    }
   ],
   "source": [
    "np.matmul(pp,qq)"
   ]
  },
  {
   "cell_type": "code",
   "execution_count": 29,
   "id": "a883f142",
   "metadata": {},
   "outputs": [
    {
     "data": {
      "text/plain": [
       "array([[0.5, 0.5, 0.5, 1. , 1. , 0.5],\n",
       "       [0.5, 0.5, 0.5, 1. , 1. , 0.5],\n",
       "       [0.5, 0.5, 0.5, 1. , 1. , 0.5],\n",
       "       [1. , 1. , 1. , 2. , 2. , 1. ],\n",
       "       [1. , 1. , 1. , 2. , 2. , 1. ],\n",
       "       [0.5, 0.5, 0.5, 1. , 1. , 0.5]])"
      ]
     },
     "execution_count": 29,
     "metadata": {},
     "output_type": "execute_result"
    }
   ],
   "source": [
    "qq=qq.T\n",
    "np.cov(pp,qq)"
   ]
  },
  {
   "cell_type": "markdown",
   "id": "194431d3",
   "metadata": {},
   "source": [
    "# Q1.h"
   ]
  },
  {
   "cell_type": "code",
   "execution_count": 30,
   "id": "0877a2b8",
   "metadata": {},
   "outputs": [],
   "source": [
    "x1 = np.array([[2, 3, 4], [3, 2, 9]])\n",
    "y1 = np.array([[1, 5, 0], [5, 10, 3]])"
   ]
  },
  {
   "cell_type": "code",
   "execution_count": 31,
   "id": "c40132e8",
   "metadata": {},
   "outputs": [
    {
     "data": {
      "text/plain": [
       "array([[17, 52],\n",
       "       [13, 62]])"
      ]
     },
     "execution_count": 31,
     "metadata": {},
     "output_type": "execute_result"
    }
   ],
   "source": [
    "np.inner(x1,y1)"
   ]
  },
  {
   "cell_type": "code",
   "execution_count": 32,
   "id": "a996cd8f",
   "metadata": {},
   "outputs": [
    {
     "data": {
      "text/plain": [
       "array([[ 2, 10,  0, 10, 20,  6],\n",
       "       [ 3, 15,  0, 15, 30,  9],\n",
       "       [ 4, 20,  0, 20, 40, 12],\n",
       "       [ 3, 15,  0, 15, 30,  9],\n",
       "       [ 2, 10,  0, 10, 20,  6],\n",
       "       [ 9, 45,  0, 45, 90, 27]])"
      ]
     },
     "execution_count": 32,
     "metadata": {},
     "output_type": "execute_result"
    }
   ],
   "source": [
    "np.outer(x1,y1)"
   ]
  },
  {
   "cell_type": "code",
   "execution_count": 33,
   "id": "d32e17f9",
   "metadata": {},
   "outputs": [
    {
     "data": {
      "text/plain": [
       "array([[ 2,  1],\n",
       "       [ 2,  5],\n",
       "       [ 2,  0],\n",
       "       [ 2,  5],\n",
       "       [ 2, 10],\n",
       "       [ 2,  3],\n",
       "       [ 3,  1],\n",
       "       [ 3,  5],\n",
       "       [ 3,  0],\n",
       "       [ 3,  5],\n",
       "       [ 3, 10],\n",
       "       [ 3,  3],\n",
       "       [ 4,  1],\n",
       "       [ 4,  5],\n",
       "       [ 4,  0],\n",
       "       [ 4,  5],\n",
       "       [ 4, 10],\n",
       "       [ 4,  3],\n",
       "       [ 3,  1],\n",
       "       [ 3,  5],\n",
       "       [ 3,  0],\n",
       "       [ 3,  5],\n",
       "       [ 3, 10],\n",
       "       [ 3,  3],\n",
       "       [ 2,  1],\n",
       "       [ 2,  5],\n",
       "       [ 2,  0],\n",
       "       [ 2,  5],\n",
       "       [ 2, 10],\n",
       "       [ 2,  3],\n",
       "       [ 9,  1],\n",
       "       [ 9,  5],\n",
       "       [ 9,  0],\n",
       "       [ 9,  5],\n",
       "       [ 9, 10],\n",
       "       [ 9,  3]])"
      ]
     },
     "execution_count": 33,
     "metadata": {},
     "output_type": "execute_result"
    }
   ],
   "source": [
    "np.array(np.meshgrid(x1, y1)).T.reshape(-1, 2)"
   ]
  },
  {
   "cell_type": "markdown",
   "id": "606a19fe",
   "metadata": {},
   "source": [
    "# Q2a"
   ]
  },
  {
   "cell_type": "code",
   "execution_count": 3,
   "id": "bd2e62c2",
   "metadata": {},
   "outputs": [],
   "source": [
    "ax=np.array([[1,-2,3],[-4,5,-6]])"
   ]
  },
  {
   "cell_type": "code",
   "execution_count": 4,
   "id": "09822fec",
   "metadata": {},
   "outputs": [
    {
     "data": {
      "text/plain": [
       "array([[1, 2, 3],\n",
       "       [4, 5, 6]])"
      ]
     },
     "execution_count": 4,
     "metadata": {},
     "output_type": "execute_result"
    }
   ],
   "source": [
    "np.abs(ax)"
   ]
  },
  {
   "cell_type": "code",
   "execution_count": 5,
   "id": "ec0f32c6",
   "metadata": {},
   "outputs": [
    {
     "data": {
      "text/plain": [
       "array([-3.5, -0.5,  2.5])"
      ]
     },
     "execution_count": 5,
     "metadata": {},
     "output_type": "execute_result"
    }
   ],
   "source": [
    "np.percentile(ax.flatten(),[25,50,75])"
   ]
  },
  {
   "cell_type": "code",
   "execution_count": 7,
   "id": "5b24514e",
   "metadata": {},
   "outputs": [
    {
     "data": {
      "text/plain": [
       "-0.5"
      ]
     },
     "execution_count": 7,
     "metadata": {},
     "output_type": "execute_result"
    }
   ],
   "source": [
    "np.mean(ax.flatten())\n"
   ]
  },
  {
   "cell_type": "code",
   "execution_count": 8,
   "id": "849320d8",
   "metadata": {},
   "outputs": [
    {
     "data": {
      "text/plain": [
       "-0.5"
      ]
     },
     "execution_count": 8,
     "metadata": {},
     "output_type": "execute_result"
    }
   ],
   "source": [
    "np.median(ax.flatten())\n"
   ]
  },
  {
   "cell_type": "code",
   "execution_count": 9,
   "id": "e2b7f6f8",
   "metadata": {},
   "outputs": [
    {
     "data": {
      "text/plain": [
       "3.8622100754188224"
      ]
     },
     "execution_count": 9,
     "metadata": {},
     "output_type": "execute_result"
    }
   ],
   "source": [
    "np.std(ax.flatten())"
   ]
  },
  {
   "cell_type": "code",
   "execution_count": 10,
   "id": "82d03ccf",
   "metadata": {},
   "outputs": [
    {
     "data": {
      "text/plain": [
       "array([-1.5,  1.5, -1.5])"
      ]
     },
     "execution_count": 10,
     "metadata": {},
     "output_type": "execute_result"
    }
   ],
   "source": [
    "np.mean(ax,axis=0)"
   ]
  },
  {
   "cell_type": "code",
   "execution_count": 11,
   "id": "84e25e7f",
   "metadata": {},
   "outputs": [
    {
     "data": {
      "text/plain": [
       "array([-1.5,  1.5, -1.5])"
      ]
     },
     "execution_count": 11,
     "metadata": {},
     "output_type": "execute_result"
    }
   ],
   "source": [
    "np.median(ax,axis=0)"
   ]
  },
  {
   "cell_type": "code",
   "execution_count": 12,
   "id": "72a7b652",
   "metadata": {},
   "outputs": [
    {
     "data": {
      "text/plain": [
       "array([2.5, 3.5, 4.5])"
      ]
     },
     "execution_count": 12,
     "metadata": {},
     "output_type": "execute_result"
    }
   ],
   "source": [
    "np.std(ax,axis=0)"
   ]
  },
  {
   "cell_type": "code",
   "execution_count": 13,
   "id": "68fe9aaa",
   "metadata": {},
   "outputs": [
    {
     "data": {
      "text/plain": [
       "array([ 0.66666667, -1.66666667])"
      ]
     },
     "execution_count": 13,
     "metadata": {},
     "output_type": "execute_result"
    }
   ],
   "source": [
    "np.mean(ax,axis=1)"
   ]
  },
  {
   "cell_type": "code",
   "execution_count": 14,
   "id": "79e38a22",
   "metadata": {},
   "outputs": [
    {
     "data": {
      "text/plain": [
       "array([ 1., -4.])"
      ]
     },
     "execution_count": 14,
     "metadata": {},
     "output_type": "execute_result"
    }
   ],
   "source": [
    "np.median(ax,axis=1)"
   ]
  },
  {
   "cell_type": "code",
   "execution_count": 15,
   "id": "42342a93",
   "metadata": {},
   "outputs": [
    {
     "data": {
      "text/plain": [
       "array([2.05480467, 4.78423336])"
      ]
     },
     "execution_count": 15,
     "metadata": {},
     "output_type": "execute_result"
    }
   ],
   "source": [
    "np.std(ax,axis=1)"
   ]
  },
  {
   "cell_type": "markdown",
   "id": "5a6bae2b",
   "metadata": {},
   "source": [
    "# Q2b"
   ]
  },
  {
   "cell_type": "code",
   "execution_count": 16,
   "id": "36f7780e",
   "metadata": {},
   "outputs": [],
   "source": [
    " av= np.array([-1.8, -1.6, -0.5, 0.5,1.6, 1.8, 3.0])"
   ]
  },
  {
   "cell_type": "code",
   "execution_count": 17,
   "id": "d5b175d3",
   "metadata": {},
   "outputs": [
    {
     "data": {
      "text/plain": [
       "array([-2., -2., -1.,  0.,  1.,  1.,  3.])"
      ]
     },
     "execution_count": 17,
     "metadata": {},
     "output_type": "execute_result"
    }
   ],
   "source": [
    "np.floor(av)"
   ]
  },
  {
   "cell_type": "code",
   "execution_count": 18,
   "id": "f5fa8229",
   "metadata": {},
   "outputs": [
    {
     "data": {
      "text/plain": [
       "array([-1., -1., -0.,  1.,  2.,  2.,  3.])"
      ]
     },
     "execution_count": 18,
     "metadata": {},
     "output_type": "execute_result"
    }
   ],
   "source": [
    "np.ceil(av)"
   ]
  },
  {
   "cell_type": "code",
   "execution_count": 19,
   "id": "54318a29",
   "metadata": {},
   "outputs": [
    {
     "data": {
      "text/plain": [
       "array([-1., -1., -0.,  0.,  1.,  1.,  3.])"
      ]
     },
     "execution_count": 19,
     "metadata": {},
     "output_type": "execute_result"
    }
   ],
   "source": [
    "np.trunc(av)"
   ]
  },
  {
   "cell_type": "code",
   "execution_count": 20,
   "id": "aeafc0d7",
   "metadata": {},
   "outputs": [
    {
     "data": {
      "text/plain": [
       "array([-2., -2., -0.,  0.,  2.,  2.,  3.])"
      ]
     },
     "execution_count": 20,
     "metadata": {},
     "output_type": "execute_result"
    }
   ],
   "source": [
    "np.round(av)"
   ]
  },
  {
   "cell_type": "markdown",
   "id": "bdf9ce48",
   "metadata": {},
   "source": [
    "# Q3a"
   ]
  },
  {
   "cell_type": "code",
   "execution_count": 21,
   "id": "e7737884",
   "metadata": {},
   "outputs": [],
   "source": [
    "array = np.array([10, 52, 62, 16, 16, 54, 453])"
   ]
  },
  {
   "cell_type": "code",
   "execution_count": 22,
   "id": "5209b882",
   "metadata": {},
   "outputs": [
    {
     "data": {
      "text/plain": [
       "array([ 10,  16,  16,  52,  54,  62, 453])"
      ]
     },
     "execution_count": 22,
     "metadata": {},
     "output_type": "execute_result"
    }
   ],
   "source": [
    "np.sort(array)"
   ]
  },
  {
   "cell_type": "code",
   "execution_count": 23,
   "id": "549d8030",
   "metadata": {},
   "outputs": [
    {
     "data": {
      "text/plain": [
       "array([0, 3, 4, 1, 5, 2, 6], dtype=int64)"
      ]
     },
     "execution_count": 23,
     "metadata": {},
     "output_type": "execute_result"
    }
   ],
   "source": [
    "np.argsort(array)"
   ]
  },
  {
   "cell_type": "code",
   "execution_count": 24,
   "id": "ecefce33",
   "metadata": {},
   "outputs": [
    {
     "data": {
      "text/plain": [
       "52"
      ]
     },
     "execution_count": 24,
     "metadata": {},
     "output_type": "execute_result"
    }
   ],
   "source": [
    "np.partition(array,3)[3]"
   ]
  },
  {
   "cell_type": "code",
   "execution_count": 25,
   "id": "d0bd50e6",
   "metadata": {},
   "outputs": [
    {
     "data": {
      "text/plain": [
       "16"
      ]
     },
     "execution_count": 25,
     "metadata": {},
     "output_type": "execute_result"
    }
   ],
   "source": [
    "np.partition(array,-5)[-5]"
   ]
  },
  {
   "cell_type": "markdown",
   "id": "72cc0f5e",
   "metadata": {},
   "source": [
    "# Q3b"
   ]
  },
  {
   "cell_type": "code",
   "execution_count": 26,
   "id": "1d71dddf",
   "metadata": {},
   "outputs": [],
   "source": [
    "z=np.array([1.0, 1.2, 2.2, 2.0, 3.0, 2.0])"
   ]
  },
  {
   "cell_type": "code",
   "execution_count": 27,
   "id": "12fcfa63",
   "metadata": {},
   "outputs": [
    {
     "data": {
      "text/plain": [
       "array([1., 2., 3., 2.])"
      ]
     },
     "execution_count": 27,
     "metadata": {},
     "output_type": "execute_result"
    }
   ],
   "source": [
    "z[z.astype(int)==z]"
   ]
  },
  {
   "cell_type": "code",
   "execution_count": 28,
   "id": "2bddbf42",
   "metadata": {},
   "outputs": [
    {
     "data": {
      "text/plain": [
       "array([1.2, 2.2])"
      ]
     },
     "execution_count": 28,
     "metadata": {},
     "output_type": "execute_result"
    }
   ],
   "source": [
    "z[z.astype(int)!=z]"
   ]
  },
  {
   "cell_type": "markdown",
   "id": "e921e0a6",
   "metadata": {},
   "source": [
    "# Q4"
   ]
  },
  {
   "cell_type": "code",
   "execution_count": 37,
   "id": "d24d7778",
   "metadata": {},
   "outputs": [],
   "source": [
    "import PIL.Image as Image"
   ]
  },
  {
   "cell_type": "code",
   "execution_count": 44,
   "id": "08f2ef0e",
   "metadata": {},
   "outputs": [],
   "source": [
    "def img_to_array(p,op):\n",
    "    img=np.array(Image.open(p))\n",
    "    if len(img.shape) == 3 and img.shape[2] == 3:\n",
    "            img_array = img\n",
    "    if len(img.shape) == 2:\n",
    "            img_array = img.reshape(-1,img.shape[-1])\n",
    "    img_array =img_array.flatten()\n",
    "       \n",
    "    np.savetxt(op, img_array, fmt='%d')"
   ]
  },
  {
   "cell_type": "code",
   "execution_count": 45,
   "id": "0377613d",
   "metadata": {},
   "outputs": [],
   "source": [
    "img_to_array(\"download.jpg\",\"op.txt\")"
   ]
  },
  {
   "cell_type": "code",
   "execution_count": null,
   "id": "1205ac88",
   "metadata": {},
   "outputs": [],
   "source": []
  }
 ],
 "metadata": {
  "kernelspec": {
   "display_name": "Python 3 (ipykernel)",
   "language": "python",
   "name": "python3"
  },
  "language_info": {
   "codemirror_mode": {
    "name": "ipython",
    "version": 3
   },
   "file_extension": ".py",
   "mimetype": "text/x-python",
   "name": "python",
   "nbconvert_exporter": "python",
   "pygments_lexer": "ipython3",
   "version": "3.11.1"
  }
 },
 "nbformat": 4,
 "nbformat_minor": 5
}
